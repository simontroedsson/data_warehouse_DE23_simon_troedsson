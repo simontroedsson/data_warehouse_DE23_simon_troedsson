{
 "cells": [
  {
   "cell_type": "code",
   "execution_count": null,
   "metadata": {},
   "outputs": [],
   "source": [
    "import requests\n",
    "import json\n",
    "\n",
    "url = 'https://links.api.jobtechdev.se'\n",
    "url_for_search = f\"{url}/joblinks\"\n",
    "\n",
    "\n",
    "def _get_ads(params):\n",
    "    headers = {'accept': 'application/json'}\n",
    "    response = requests.get(url_for_search, headers=headers, params=params)\n",
    "    response.raise_for_status()  # check for http errors\n",
    "    return json.loads(response.content.decode('utf8'))\n",
    "\n",
    "\n",
    "def _print_ad(ad):\n",
    "    print(f\"{ad['headline']}, {ad['employer']['name']}\")\n",
    "    source_links = [item['label'] for item in ad['source_links']]\n",
    "    print(source_links)\n",
    "    print(ad['brief'])  # 'brief' is a shortened description from the original ad\n",
    "    print()\n",
    "\n",
    "\n",
    "def example_search_return_number_of_hits(query):\n",
    "    # limit: 0 means no ads, just a value of how many ads were found.\n",
    "    search_params = {'q': query, 'limit': 0}\n",
    "    json_response = _get_ads(search_params)\n",
    "    number_of_hits = json_response['total']['value']\n",
    "    print(f\"\\nTotal number of hits = {number_of_hits}\")\n",
    "\n",
    "\n",
    "def example_search_loop_through_hits(query):\n",
    "    # limit = 100 is the max number of hits that can be returned.\n",
    "    # If there are more (which you find with ['total']['value'] in the json response)\n",
    "    # you have to use offset and multiple requests to get all ads.\n",
    "    search_params = {'q': query, 'limit': 100}\n",
    "    json_response = _get_ads(search_params)\n",
    "    hits = json_response['hits']\n",
    "    for hit in hits:\n",
    "        _print_ad(hit)\n",
    "    print('---------------------------\\n')\n",
    "\n",
    "\n",
    "def example_filter_source(query):\n",
    "    \"\"\"\n",
    "    This example excludes all hits that comes from Arbetsförmedlingen and only show results from other sources\n",
    "    the field 'source_links' in the ad is a list of the source(s) where the original ad was found\n",
    "    \"\"\"\n",
    "    exclude = 'arbetsformedlingen.se'\n",
    "    limit = 100\n",
    "    search_params = {'q': query, 'limit': limit, 'exclude_source': exclude}\n",
    "    json_response = _get_ads(search_params)\n",
    "    hits = json_response['hits']\n",
    "    for hit in hits:\n",
    "        _print_ad(hit)\n",
    "    number_of_hits = json_response['total']['value']\n",
    "    print(f\"Number of hits, excluding {exclude} = {number_of_hits}\")\n",
    "\n",
    "\n",
    "query = 'lärare uppsala'\n",
    "example_search_loop_through_hits(query)\n",
    "example_filter_source(query)\n",
    "example_search_return_number_of_hits(query)\n"
   ]
  },
  {
   "cell_type": "code",
   "execution_count": null,
   "metadata": {},
   "outputs": [],
   "source": [
    "search_params = {'q': query, 'limit': 100}\n",
    "json_response = _get_ads(search_params)\n",
    "json_response\n",
    "\n"
   ]
  },
  {
   "cell_type": "code",
   "execution_count": 8,
   "metadata": {},
   "outputs": [
    {
     "data": {
      "text/plain": [
       "'Yrkesgymnasiet i Uppsala söker en frisörlärare'"
      ]
     },
     "execution_count": 8,
     "metadata": {},
     "output_type": "execute_result"
    }
   ],
   "source": [
    "json_response[\"hits\"][0][\"headline\"]"
   ]
  },
  {
   "cell_type": "code",
   "execution_count": 10,
   "metadata": {},
   "outputs": [
    {
     "data": {
      "text/plain": [
       "'Thorengruppen AB'"
      ]
     },
     "execution_count": 10,
     "metadata": {},
     "output_type": "execute_result"
    }
   ],
   "source": [
    "json_response[\"hits\"][0][\"employer\"][\"name\"]"
   ]
  },
  {
   "cell_type": "code",
   "execution_count": null,
   "metadata": {},
   "outputs": [],
   "source": []
  }
 ],
 "metadata": {
  "kernelspec": {
   "display_name": ".venv",
   "language": "python",
   "name": "python3"
  },
  "language_info": {
   "codemirror_mode": {
    "name": "ipython",
    "version": 3
   },
   "file_extension": ".py",
   "mimetype": "text/x-python",
   "name": "python",
   "nbconvert_exporter": "python",
   "pygments_lexer": "ipython3",
   "version": "3.11.5"
  }
 },
 "nbformat": 4,
 "nbformat_minor": 2
}
